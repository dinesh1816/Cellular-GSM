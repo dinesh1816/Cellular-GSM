{
 "cells": [
  {
   "cell_type": "markdown",
   "metadata": {
    "collapsed": true
   },
   "source": [
    "<a name=\"cellTowers\"></a>\n",
    "Cell Tower Lookup\n",
    "\n",
    "Online web applications such as [OpenCelliD](https://www.opencellid.org/) allow users to enter uniquely identifying information for a cell tower and in return display the location of the corresponding cell tower on an interactive map.\n",
    "\n",
    "For example, use the above service to identify the location of the cell tower with details:\n",
    "\n",
    "- MCC: 234\n",
    "- MNC: 15\n",
    "- LAC: 24708\n",
    "- CID: 2561566\n",
    "\n",
    "Services such as OpenCellID typically obtain the location data by calling a remote geolocation web service via an API. With access to such an API, we can create our own equivalent service.\n",
    "\n",
    "In this activity you will see how to call the API services *in principle*, if not in fact."
   ]
  },
  {
   "attachments": {},
   "cell_type": "markdown",
   "metadata": {},
   "source": [
    "### Walk-through of How to Call the API\n",
    "\n",
    "If you use your browser developer tools to monitor your browser's network activity as you lookup a cell tower ID using the OpenCellID webservice, you might notice a request is made to a webservice that is used to lookup the location of the cell tower :\n",
    "\n",
    "![OpenCellID website - API call for cell tower geolocation from cell tower identifying data](images/OpenCelliD_api_call.png)\n",
    "\n",
    "The request URL has the form:\n",
    "\n",
    "`https://opencellid.org/ajax/searchCell.php?mcc=234&mnc=15&lac=24708&cell_id=2561566`\n",
    "\n",
    "The location information is then used by calls to other services that can render the map, along with the location of cell towers in that general area."
   ]
  },
  {
   "cell_type": "markdown",
   "metadata": {},
   "source": [
    "The following walk through demonstrates the steps used to make a request to that API.\n",
    "\n",
    "*Note that the following activity cannot be guaranteed to work. Webservices and APIs often use cookies and other techniques to block requests that are not made by an authorised user from an appropriate client (such as a web browser).*"
   ]
  },
  {
   "cell_type": "markdown",
   "metadata": {},
   "source": [
    "To call the API, or look up a cell tower location using a third party web app with its own API access, we need four pieces of data:\n",
    "\n",
    "- the network operator mobile country code (MCC): for example, the UK MCC code is 234\n",
    "- the mobile network code (MNC): for example, the Vodafone UK MNC is 15\n",
    "- the cell tower location area code (LAC): for example, 24708\n",
    "- the cell tower cell ID (CellID): for example, 2561566\n",
    "\n",
    "To call the service, we construct a URL as defined for a particular API and make a request to that URL using the *python* `requests` package."
   ]
  },
  {
   "cell_type": "code",
   "execution_count": 2,
   "metadata": {},
   "outputs": [],
   "source": [
    "#The requests library makes it easy to call URLs using Python\n",
    "import requests"
   ]
  },
  {
   "cell_type": "markdown",
   "metadata": {},
   "source": [
    "To pass the data to the API, we need to create a Python `dict` that describes the data in a formally structured way:"
   ]
  },
  {
   "cell_type": "code",
   "execution_count": 3,
   "metadata": {},
   "outputs": [
    {
     "data": {
      "text/plain": [
       "{'mcc': 234, 'mnc': 15, 'lac': 24708, 'cell_id': 2561566}"
      ]
     },
     "execution_count": 3,
     "metadata": {},
     "output_type": "execute_result"
    }
   ],
   "source": [
    "params = {\"mcc\": 234, #mobileCountryCode\n",
    "          \"mnc\": 15, #mobileNetworkCode\n",
    "          \"lac\": 24708, #locationAreaCode\n",
    "          \"cell_id\": 2561566 #CellId\n",
    "         }\n",
    "\n",
    "params"
   ]
  },
  {
   "cell_type": "markdown",
   "metadata": {},
   "source": [
    "This parameter data is passed, as part of an HTTP/POST request, to the API endpoint URL using the `requests` package.\n",
    "\n",
    "The `requests` package also allows us parse any valid response as a JSON object and cast it to a Python dictionary:"
   ]
  },
  {
   "cell_type": "code",
   "execution_count": 4,
   "metadata": {},
   "outputs": [
    {
     "data": {
      "text/plain": [
       "{'lon': '-1.200002', 'lat': '50.652477', 'range': '1000'}"
      ]
     },
     "execution_count": 4,
     "metadata": {},
     "output_type": "execute_result"
    }
   ],
   "source": [
    "import requests\n",
    "\n",
    "#Set the url to the appropriate API endpoint location\n",
    "url = \"https://opencellid.org/ajax/searchCell.php\"\n",
    "\n",
    "r = requests.get(url, params=params)\n",
    "if not r.ok:\n",
    "    # display the response if something went wrong...\n",
    "    print('Error: '+r.text)\n",
    "    \n",
    "# Display the response\n",
    "r.json()"
   ]
  },
  {
   "cell_type": "markdown",
   "metadata": {},
   "source": [
    "A typical response looks something like this:\n",
    "\n",
    "```json\n",
    "{'lon': '-1.145837', 'lat': '50.657593', 'range': '1000'}\n",
    " ```\n",
    "\n",
    "If the location of the devices with the specified MAC addresses are known, a location is determined and returned .\n",
    "\n",
    "The latitude / longitude pair can then be used to identify the approximate location on a map.\n",
    "\n",
    "For example, let's extract out the latitude and longitude into some correspondingly named variables:\n",
    "\n",
    "```python\n",
    "lon = r.json()[\"lon\"]\n",
    "lat = r.json()[\"lat\"]\n",
    "\n",
    "lon, lat\n",
    "```\n",
    "\n",
    "## So Where is That Location Exactly?"
   ]
  },
  {
   "cell_type": "markdown",
   "metadata": {},
   "source": [
    "Armed with the latitude and longitude of a location, we can use those co-ordinates to place a marker on a map to reveal that location in more human understandable terms.\n",
    "\n",
    "A quick way of doing that is to use some magic, literally, using some IPython magic known as `ipython_folium_magic` [[docs](https://github.com/psychemedia/ipython_magic_folium)]...\n",
    "\n",
    "The following code cell loads in some IPython magic that supports the creation of embedded Google Maps in a Jupyter notebook. This cell only needs to be run once in any given notebook. Typically, magics are loaded at the start of a notebook, along with required Python packages. "
   ]
  },
  {
   "cell_type": "code",
   "execution_count": 34,
   "metadata": {},
   "outputs": [
    {
     "name": "stdout",
     "output_type": "stream",
     "text": [
      "Folium installed and imported!\n"
     ]
    }
   ],
   "source": [
    "import folium\n",
    "\n",
    "print('Folium installed and imported!')"
   ]
  },
  {
   "cell_type": "code",
   "execution_count": 38,
   "metadata": {},
   "outputs": [
    {
     "name": "stdout",
     "output_type": "stream",
     "text": [
      "{'building': 'Winton', 'road': 'Alverstone Road', 'hamlet': 'Apse Heath', 'village': 'Winford', 'county': 'Isle of Wight', 'ISO3166-2-lvl6': 'GB-IOW', 'state': 'England', 'ISO3166-2-lvl4': 'GB-ENG', 'postcode': 'PO36 0LF', 'country': 'United Kingdom', 'country_code': 'gb'}\n"
     ]
    }
   ],
   "source": [
    "# import module\n",
    "from geopy.geocoders import Nominatim\n",
    " \n",
    "# initialize Nominatim API\n",
    "geolocator = Nominatim(user_agent=\"Mobile_Location_Finder\")\n",
    " \n",
    " \n",
    "# Latitude & Longitude input\n",
    "Latitude = r.json()[\"lat\"]\n",
    "Longitude = r.json()[\"lon\"]\n",
    " \n",
    "location = geolocator.reverse(Latitude+\",\"+Longitude)\n",
    " \n",
    "address = location.raw['address']\n",
    " \n",
    "print(address)\n"
   ]
  },
  {
   "cell_type": "code",
   "execution_count": 43,
   "metadata": {},
   "outputs": [
    {
     "data": {
      "text/html": [
       "<div style=\"width:100%;\"><div style=\"position:relative;width:100%;height:0;padding-bottom:60%;\"><span style=\"color:#565656\">Make this Notebook Trusted to load map: File -> Trust Notebook</span><iframe srcdoc=\"&lt;!DOCTYPE html&gt;\n",
       "&lt;html&gt;\n",
       "&lt;head&gt;\n",
       "    \n",
       "    &lt;meta http-equiv=&quot;content-type&quot; content=&quot;text/html; charset=UTF-8&quot; /&gt;\n",
       "    \n",
       "        &lt;script&gt;\n",
       "            L_NO_TOUCH = false;\n",
       "            L_DISABLE_3D = false;\n",
       "        &lt;/script&gt;\n",
       "    \n",
       "    &lt;style&gt;html, body {width: 100%;height: 100%;margin: 0;padding: 0;}&lt;/style&gt;\n",
       "    &lt;style&gt;#map {position:absolute;top:0;bottom:0;right:0;left:0;}&lt;/style&gt;\n",
       "    &lt;script src=&quot;https://cdn.jsdelivr.net/npm/leaflet@1.9.3/dist/leaflet.js&quot;&gt;&lt;/script&gt;\n",
       "    &lt;script src=&quot;https://code.jquery.com/jquery-3.7.1.min.js&quot;&gt;&lt;/script&gt;\n",
       "    &lt;script src=&quot;https://cdn.jsdelivr.net/npm/bootstrap@5.2.2/dist/js/bootstrap.bundle.min.js&quot;&gt;&lt;/script&gt;\n",
       "    &lt;script src=&quot;https://cdnjs.cloudflare.com/ajax/libs/Leaflet.awesome-markers/2.0.2/leaflet.awesome-markers.js&quot;&gt;&lt;/script&gt;\n",
       "    &lt;link rel=&quot;stylesheet&quot; href=&quot;https://cdn.jsdelivr.net/npm/leaflet@1.9.3/dist/leaflet.css&quot;/&gt;\n",
       "    &lt;link rel=&quot;stylesheet&quot; href=&quot;https://cdn.jsdelivr.net/npm/bootstrap@5.2.2/dist/css/bootstrap.min.css&quot;/&gt;\n",
       "    &lt;link rel=&quot;stylesheet&quot; href=&quot;https://netdna.bootstrapcdn.com/bootstrap/3.0.0/css/bootstrap.min.css&quot;/&gt;\n",
       "    &lt;link rel=&quot;stylesheet&quot; href=&quot;https://cdn.jsdelivr.net/npm/@fortawesome/fontawesome-free@6.2.0/css/all.min.css&quot;/&gt;\n",
       "    &lt;link rel=&quot;stylesheet&quot; href=&quot;https://cdnjs.cloudflare.com/ajax/libs/Leaflet.awesome-markers/2.0.2/leaflet.awesome-markers.css&quot;/&gt;\n",
       "    &lt;link rel=&quot;stylesheet&quot; href=&quot;https://cdn.jsdelivr.net/gh/python-visualization/folium/folium/templates/leaflet.awesome.rotate.min.css&quot;/&gt;\n",
       "    \n",
       "            &lt;meta name=&quot;viewport&quot; content=&quot;width=device-width,\n",
       "                initial-scale=1.0, maximum-scale=1.0, user-scalable=no&quot; /&gt;\n",
       "            &lt;style&gt;\n",
       "                #map_0aeee69e914a33d1b75cecfea185a0c2 {\n",
       "                    position: relative;\n",
       "                    width: 100.0%;\n",
       "                    height: 100.0%;\n",
       "                    left: 0.0%;\n",
       "                    top: 0.0%;\n",
       "                }\n",
       "                .leaflet-container { font-size: 1rem; }\n",
       "            &lt;/style&gt;\n",
       "        \n",
       "&lt;/head&gt;\n",
       "&lt;body&gt;\n",
       "    \n",
       "    \n",
       "            &lt;div class=&quot;folium-map&quot; id=&quot;map_0aeee69e914a33d1b75cecfea185a0c2&quot; &gt;&lt;/div&gt;\n",
       "        \n",
       "&lt;/body&gt;\n",
       "&lt;script&gt;\n",
       "    \n",
       "    \n",
       "            var map_0aeee69e914a33d1b75cecfea185a0c2 = L.map(\n",
       "                &quot;map_0aeee69e914a33d1b75cecfea185a0c2&quot;,\n",
       "                {\n",
       "                    center: [50.652477, -1.200002],\n",
       "                    crs: L.CRS.EPSG3857,\n",
       "                    zoom: 15,\n",
       "                    zoomControl: true,\n",
       "                    preferCanvas: false,\n",
       "                }\n",
       "            );\n",
       "\n",
       "            \n",
       "\n",
       "        \n",
       "    \n",
       "            var tile_layer_b32722b872d3b4fe4aeb299252f22d60 = L.tileLayer(\n",
       "                &quot;https://tile.openstreetmap.org/{z}/{x}/{y}.png&quot;,\n",
       "                {&quot;attribution&quot;: &quot;\\u0026copy; \\u003ca href=\\&quot;https://www.openstreetmap.org/copyright\\&quot;\\u003eOpenStreetMap\\u003c/a\\u003e contributors&quot;, &quot;detectRetina&quot;: false, &quot;maxNativeZoom&quot;: 19, &quot;maxZoom&quot;: 19, &quot;minZoom&quot;: 0, &quot;noWrap&quot;: false, &quot;opacity&quot;: 1, &quot;subdomains&quot;: &quot;abc&quot;, &quot;tms&quot;: false}\n",
       "            );\n",
       "        \n",
       "    \n",
       "            tile_layer_b32722b872d3b4fe4aeb299252f22d60.addTo(map_0aeee69e914a33d1b75cecfea185a0c2);\n",
       "        \n",
       "    \n",
       "            var marker_9f8c76386b4f8de8222e9e152474799d = L.marker(\n",
       "                [50.652477, -1.200002],\n",
       "                {}\n",
       "            ).addTo(map_0aeee69e914a33d1b75cecfea185a0c2);\n",
       "        \n",
       "    \n",
       "            var icon_9c24fb1eea9ce93c4cabf581392aaeb9 = L.AwesomeMarkers.icon(\n",
       "                {&quot;extraClasses&quot;: &quot;fa-rotate-0&quot;, &quot;icon&quot;: &quot;cloud&quot;, &quot;iconColor&quot;: &quot;white&quot;, &quot;markerColor&quot;: &quot;blue&quot;, &quot;prefix&quot;: &quot;glyphicon&quot;}\n",
       "            );\n",
       "            marker_9f8c76386b4f8de8222e9e152474799d.setIcon(icon_9c24fb1eea9ce93c4cabf581392aaeb9);\n",
       "        \n",
       "    \n",
       "        var popup_9d63e08a2b4256644a700561e682ee37 = L.popup({&quot;maxWidth&quot;: &quot;100%&quot;});\n",
       "\n",
       "        \n",
       "            \n",
       "                var html_df2913ac1992af5d14328b696bb30bae = $(`&lt;div id=&quot;html_df2913ac1992af5d14328b696bb30bae&quot; style=&quot;width: 100.0%; height: 100.0%;&quot;&gt;{&#x27;building&#x27;: &#x27;Winton&#x27;, &#x27;road&#x27;: &#x27;Alverstone Road&#x27;, &#x27;hamlet&#x27;: &#x27;Apse Heath&#x27;, &#x27;village&#x27;: &#x27;Winford&#x27;, &#x27;county&#x27;: &#x27;Isle of Wight&#x27;, &#x27;ISO3166-2-lvl6&#x27;: &#x27;GB-IOW&#x27;, &#x27;state&#x27;: &#x27;England&#x27;, &#x27;ISO3166-2-lvl4&#x27;: &#x27;GB-ENG&#x27;, &#x27;postcode&#x27;: &#x27;PO36 0LF&#x27;, &#x27;country&#x27;: &#x27;United Kingdom&#x27;, &#x27;country_code&#x27;: &#x27;gb&#x27;}&lt;/div&gt;`)[0];\n",
       "                popup_9d63e08a2b4256644a700561e682ee37.setContent(html_df2913ac1992af5d14328b696bb30bae);\n",
       "            \n",
       "        \n",
       "\n",
       "        marker_9f8c76386b4f8de8222e9e152474799d.bindPopup(popup_9d63e08a2b4256644a700561e682ee37)\n",
       "        ;\n",
       "\n",
       "        \n",
       "    \n",
       "    \n",
       "            marker_9f8c76386b4f8de8222e9e152474799d.bindTooltip(\n",
       "                `&lt;div&gt;\n",
       "                     Your Location\n",
       "                 &lt;/div&gt;`,\n",
       "                {&quot;sticky&quot;: true}\n",
       "            );\n",
       "        \n",
       "&lt;/script&gt;\n",
       "&lt;/html&gt;\" style=\"position:absolute;width:100%;height:100%;left:0;top:0;border:none !important;\" allowfullscreen webkitallowfullscreen mozallowfullscreen></iframe></div></div>"
      ],
      "text/plain": [
       "<folium.folium.Map at 0x1355175e0>"
      ]
     },
     "execution_count": 43,
     "metadata": {},
     "output_type": "execute_result"
    }
   ],
   "source": [
    "m = folium.Map([r.json()[\"lat\"], r.json()[\"lon\"]], zoom_start=15)\n",
    "\n",
    "folium.Marker(\n",
    "    location=[r.json()[\"lat\"], r.json()[\"lon\"]],\n",
    "    tooltip=\"Your Location\",\n",
    "    popup=address,\n",
    "    icon=folium.Icon(icon=\"cloud\"),\n",
    ").add_to(m)\n",
    "\n",
    "m"
   ]
  },
  {
   "cell_type": "markdown",
   "metadata": {},
   "source": [
    "## Try it Yourself\n",
    "\n",
    "Modify the `params` definition above to use following cell tower data:\n",
    "\n",
    "- MCC: 234\n",
    "- MNC: 10\n",
    "- LAC: 1120\n",
    "- CID: 133246578\n",
    "\n",
    "Where is the cell tower located?"
   ]
  }
 ],
 "metadata": {
  "jupytext": {
   "formats": "ipynb,.md//md"
  },
  "kernelspec": {
   "display_name": "Python 3 (ipykernel)",
   "language": "python",
   "name": "python3"
  },
  "language_info": {
   "codemirror_mode": {
    "name": "ipython",
    "version": 3
   },
   "file_extension": ".py",
   "mimetype": "text/x-python",
   "name": "python",
   "nbconvert_exporter": "python",
   "pygments_lexer": "ipython3",
   "version": "3.9.6"
  }
 },
 "nbformat": 4,
 "nbformat_minor": 2
}
